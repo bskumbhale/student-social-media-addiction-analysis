{
 "cells": [
  {
   "cell_type": "markdown",
   "id": "db795f88-a4fc-4f94-b607-21cfec32ab83",
   "metadata": {},
   "source": [
    "<h1 style=\"color:#003366; text-align:center; font-size:36px; font-weight:bold;\">\n",
    "Combating Social Media Addiction with Data-Driven Insights EDA Project\n",
    "</h1>\n",
    "\n",
    "<h2 style=\"color:#003366; text-align:center; font-size:22px;\">\n",
    "Exploratory Data Analysis using Advanced DataFrame Operations\n",
    "</h2>\n",
    "\n",
    "<hr style=\"height:2px; background-color:#003366; border:none;\">"
   ]
  },
  {
   "cell_type": "markdown",
   "id": "bab35183-72ed-4c54-b4c9-02f1449d86c7",
   "metadata": {},
   "source": [
    "<h2 style=\"color:#003366; font-size:22px; font-weight:bold;\">\n",
    "Project Description\n",
    "</h2>\n",
    "<p style=\"font-size:16px; color:#003366; line-height:1.6;\">\n",
    "<br>\n",
    "This project analyzes student social media usage patterns to uncover their impact on sleep, mental health, and academics. Using Python-based data analysis and visualizations, it provides actionable insights to support awareness campaigns and digital detox strategies for reducing social media addiction among students.<br>\n",
    "<p style=\"font-size:16px; color:#003366; line-height:1.6;\">\n",
    "The emphasis is on applying <b>advanced DataFrame operations</b> group-based aggregations, resampling, reshaping, and conditional logic — all without using SQL or external libraries.\n",
    "</p>"
   ]
  },
  {
   "cell_type": "markdown",
   "id": "ffab85ef-5fc2-4a32-a5aa-440fe2ec6a54",
   "metadata": {},
   "source": [
    "<h2 style=\"color:#003366; font-size:22px; font-weight:bold;\">\n",
    "Project Objectives\n",
    "</h2>\n",
    "\n",
    "<p style=\"font-size:16px; color:#333; line-height:1.6;\">\n",
    "To explore student social media usage patterns across demographics and identify their effects on mental health, sleep, and academic performance, while providing data-driven recommendations for digital detox and addiction prevention.</p>\n",
    "\n",
    "<ul style=\"font-size:16px; color:#003366; line-height:1.8; margin-left:20px;\">\n",
    " \n",
    "  <li><b>Data Exploration:</b> Use groupby, filters, sorting, masking, conditional logic, and derived columns to explore patterns and trends.</li>\n",
    "  <li><b>Data Quality Checks:</b> Identify duplicates, missing values</li>\n",
    "  </ul>"
   ]
  },
  {
   "cell_type": "code",
   "execution_count": null,
   "id": "37044eac-a502-4318-940b-1efd8aa468a4",
   "metadata": {},
   "outputs": [],
   "source": [
    "# importing all important libraries\n",
    "\n",
    "import pandas as pd\n",
    "import numpy as np\n",
    "import matplotlib.pyplot as plt\n",
    "import seaborn as sns"
   ]
  },
  {
   "cell_type": "markdown",
   "id": "64495e68-e79c-477a-8486-072be235d2ec",
   "metadata": {},
   "source": [
    "<h3 style=\"color:#003366;\">Step 1: Load the Data</h3>"
   ]
  },
  {
   "cell_type": "code",
   "execution_count": null,
   "id": "545e5c96-5e78-4b7d-a902-170c1011daab",
   "metadata": {},
   "outputs": [],
   "source": [
    "# Load the data\n",
    "\n",
    "student_data = pd.read_csv(\"students_data.csv\")"
   ]
  },
  {
   "cell_type": "code",
   "execution_count": null,
   "id": "858bc414-2c1f-46ae-999c-53bf7cff53e7",
   "metadata": {},
   "outputs": [],
   "source": [
    "# Preview the first few records of each dataset\n",
    "student_data.head()"
   ]
  },
  {
   "cell_type": "markdown",
   "id": "da40407e-8479-4fd7-a0b1-e7f37e118c70",
   "metadata": {},
   "source": [
    "<h3 style=\"color:#003366;\">Step 2: Dataset Structure & Missing Value Audit</h3>"
   ]
  },
  {
   "cell_type": "code",
   "execution_count": null,
   "id": "0c2183b4-a000-46b4-b4ba-a5ae4ce1c616",
   "metadata": {},
   "outputs": [],
   "source": [
    "# Basic information about the file like total data, total columns and datatypes of columns\n",
    "print(\"Shape of Dataset : \",student_data.shape)\n",
    "\n",
    "student_data.info()"
   ]
  },
  {
   "cell_type": "code",
   "execution_count": null,
   "id": "cc4fb111-cfc6-4ae1-98e0-324dd59ddd5e",
   "metadata": {},
   "outputs": [],
   "source": [
    "# checking for null values in data\n",
    "print(\"Missing Values in dataset : \")\n",
    "student_data.isna().sum()"
   ]
  },
  {
   "cell_type": "code",
   "execution_count": null,
   "id": "46595368-d006-49d8-8ab3-b58ba79027a4",
   "metadata": {},
   "outputs": [],
   "source": [
    "print(\"Duplicates in student dataset : \",student_data.duplicated().sum())\n"
   ]
  },
  {
   "cell_type": "code",
   "execution_count": null,
   "id": "26903707-c37d-459c-a315-4b18799a2795",
   "metadata": {},
   "outputs": [],
   "source": [
    "student_data.columns"
   ]
  },
  {
   "cell_type": "code",
   "execution_count": null,
   "id": "bb60ad6b-06b4-4c14-bc01-f7b218dfc0cb",
   "metadata": {},
   "outputs": [],
   "source": [
    "student_data.describe()"
   ]
  },
  {
   "cell_type": "markdown",
   "id": "9a769606-c9d9-436a-8826-136539c2fadc",
   "metadata": {},
   "source": [
    "<h3 style=\"color:#003366;\">Step 3: Creating Custom Functions</h3>"
   ]
  },
  {
   "cell_type": "markdown",
   "id": "fb5258f3-9245-495e-a28d-29c2a51fa112",
   "metadata": {},
   "source": [
    "#### Function to Classify risk level (Low/Medium/High) based on usage hours"
   ]
  },
  {
   "cell_type": "code",
   "execution_count": null,
   "id": "14572efb-378f-42de-a047-5b1b8a2d295e",
   "metadata": {},
   "outputs": [],
   "source": [
    "def classify_risk(hours):\n",
    "    \"\"\"\n",
    "    Classify risk level based on daily usage hours.\n",
    "    \"\"\"\n",
    "    if hours < 3:\n",
    "        return \"Low\"\n",
    "    elif 3 <= hours <= 6:\n",
    "        return \"Medium\"\n",
    "    else:\n",
    "        return \"High\""
   ]
  },
  {
   "cell_type": "markdown",
   "id": "4603ad93-cd5a-4f29-9b4f-3e0e54f47aaa",
   "metadata": {},
   "source": [
    "#### Function to Suggest digital detox strategies using if-else blocks"
   ]
  },
  {
   "cell_type": "code",
   "execution_count": null,
   "id": "e4150997-850c-42e9-9ec1-0e5922de3b54",
   "metadata": {},
   "outputs": [],
   "source": [
    "def detox_strategy(risk_level):\n",
    "    \"\"\"\n",
    "    Suggest a digital detox strategy based on risk level.\n",
    "    \"\"\"\n",
    "    if risk_level == \"Low\":\n",
    "        return \"Maintain balance: keep track of screen time.\"\n",
    "    elif risk_level == \"Medium\":\n",
    "        return \"Set app limits, take 1-hour tech-free breaks daily.\"\n",
    "    elif risk_level == \"High\":\n",
    "        return \"Consider a weekend detox, disable notifications, and focus on offline hobbies.\"\n",
    "    else:\n",
    "        return \"No strategy available\""
   ]
  },
  {
   "cell_type": "markdown",
   "id": "2ef7ea76-c907-4f77-8669-7c5b67018424",
   "metadata": {},
   "source": [
    "#### Creating new columns for risk level and detox stratigies"
   ]
  },
  {
   "cell_type": "code",
   "execution_count": null,
   "id": "c2dba254-7d29-402a-a2af-482e7298b6e3",
   "metadata": {},
   "outputs": [],
   "source": [
    "student_data[\"Risk_Level\"] = student_data[\"Avg_Daily_Usage_Hours\"].apply(classify_risk)\n",
    "\n",
    "student_data[\"Detox_Strategy\"] = student_data[\"Risk_Level\"].apply(detox_strategy)"
   ]
  },
  {
   "cell_type": "code",
   "execution_count": null,
   "id": "a360fa90-53f6-493f-b3fe-8e36d959396e",
   "metadata": {},
   "outputs": [],
   "source": [
    "student_data.head()"
   ]
  },
  {
   "cell_type": "markdown",
   "id": "63d8304b-f016-4c08-8498-a40b4ed53c78",
   "metadata": {},
   "source": [
    "<h3 style=\"color:#003366;\">Step 4: Exploratory Data Analysis EDA</h3>\n"
   ]
  },
  {
   "cell_type": "code",
   "execution_count": null,
   "id": "15daf5af-7990-435e-9767-f87dce8f1bb1",
   "metadata": {},
   "outputs": [],
   "source": [
    "gender = student_data.groupby('Gender')['Student_ID'].count()\n",
    "print(gender)\n",
    "\n",
    "age = student_data.groupby('Age')['Student_ID'].count()\n",
    "print(age)\n",
    "\n",
    "academic = student_data.groupby('Academic_Level')['Student_ID'].count()\n",
    "print(academic)\n",
    "\n",
    "academic_performance = student_data.groupby('Affects_Academic_Performance')['Student_ID'].count().reset_index()\n",
    "print(academic_performance)"
   ]
  },
  {
   "cell_type": "markdown",
   "id": "ad5c2939-b2b6-4100-a4e6-50189f11e979",
   "metadata": {},
   "source": [
    "#### Average Addiction Score by Age, Gender and Academic Level"
   ]
  },
  {
   "cell_type": "code",
   "execution_count": null,
   "id": "a0e4eff7-0c81-4dcf-8f7a-a8f3d594667d",
   "metadata": {},
   "outputs": [],
   "source": [
    "# reset_index is used to make series to dataframe groupby().mean() → Series (index + values)\n",
    "\n",
    "Avg_Addiction_Gender = student_data.groupby('Gender')['Addicted_Score'].mean().reset_index()  \n",
    "\n",
    "Avg_Addiction_age = student_data.groupby('Age')['Addicted_Score'].mean().reset_index()\n",
    "\n",
    "Avg_Addiction_academic = student_data.groupby('Academic_Level')['Addicted_Score'].mean().reset_index()"
   ]
  },
  {
   "cell_type": "code",
   "execution_count": null,
   "id": "a93abe06-ca94-4524-a1fa-90222c1b27e1",
   "metadata": {},
   "outputs": [],
   "source": [
    "plt.figure(figsize = (15,10))\n",
    "\n",
    "plt.subplot(2,2,1)\n",
    "sns.barplot(\n",
    "    data = Avg_Addiction_Gender,\n",
    "    x = 'Gender',\n",
    "    y = 'Addicted_Score'\n",
    ")\n",
    "plt.title('Average addiction score by Gender', fontsize = 14, weight='bold', color=\"#003366\")\n",
    "plt.ylabel('Addiction score')\n",
    "\n",
    "plt.subplot(2,2,2)\n",
    "sns.barplot(\n",
    "    data = Avg_Addiction_age,\n",
    "    x = 'Age',\n",
    "    y = 'Addicted_Score'\n",
    ")\n",
    "plt.title('Average addiction score by Age', fontsize = 14, weight='bold', color=\"#003366\")\n",
    "plt.ylabel('Addiction score')\n",
    "\n",
    "plt.subplot(2,2,3)\n",
    "sns.barplot(\n",
    "    data = Avg_Addiction_academic,\n",
    "    x = 'Academic_Level',\n",
    "    y = 'Addicted_Score'\n",
    ")\n",
    "plt.title('Average addiction score by Academic Level', fontsize = 14, weight='bold', color=\"#003366\")\n",
    "plt.ylabel('Addiction score')\n",
    "\n",
    "plt.show()"
   ]
  },
  {
   "cell_type": "markdown",
   "id": "7200f0aa-f2c9-42ba-8f09-298d862eab12",
   "metadata": {},
   "source": [
    "<h3 style=\"color:#003366;\">Key Insights</h3>\n",
    "\n",
    "<ul style=\"font-size:16px; color:#003366; margin-left:20px; line-height:1.6;\">\n",
    "  <li>Female students have a higher average addiction score compared to male students.</li>\n",
    "  <li>Students aged 18 have the highest addiction score, while ages 19 and 20 are at a similar level.</li>\n",
    "  <li>High school students show higher addiction scores, but their total numbers are lower compared to undergraduate and graduate students.</li>\n",
    "</ul>"
   ]
  },
  {
   "cell_type": "markdown",
   "id": "08d74e22-874f-4271-b897-94c862f6e6ec",
   "metadata": {},
   "source": [
    "#### Age and Gender Relationship by average daily usage hours"
   ]
  },
  {
   "cell_type": "code",
   "execution_count": null,
   "id": "aedb18ea-cbae-44f8-92be-6abda4986e38",
   "metadata": {},
   "outputs": [],
   "source": [
    "# gender_age = student_data.groupby([\"Gender\",\"Age\"])[\"Avg_Daily_Usage_Hours\"].mean().reset_index()\n",
    "\n",
    "pivot_gender_age = student_data.pivot_table(index = 'Gender', columns = 'Age', values = 'Avg_Daily_Usage_Hours', aggfunc = 'mean')\n",
    "pivot_gender_age"
   ]
  },
  {
   "cell_type": "markdown",
   "id": "8ad35b45-6562-4f2b-afba-39ddca224102",
   "metadata": {},
   "source": [
    "#### Age and Gender Relationship by Average sleep hours per night"
   ]
  },
  {
   "cell_type": "code",
   "execution_count": null,
   "id": "97afaa0c-8ebb-43c4-8dc8-2f2d2890047b",
   "metadata": {},
   "outputs": [],
   "source": [
    "# gender_age1 = student_data.groupby([\"Gender\",\"Age\"])[\"Sleep_Hours_Per_Night\"].mean().reset_index()\n",
    "\n",
    "pivot_gender_age1 = student_data.pivot_table(index = 'Gender', columns = 'Age', values = 'Sleep_Hours_Per_Night', aggfunc = 'mean')\n",
    "pivot_gender_age1"
   ]
  },
  {
   "cell_type": "markdown",
   "id": "9c8dede1-5d3e-4a3a-9960-64f70b223111",
   "metadata": {},
   "source": [
    "#### Age and Gender Relationship by Average Mental Health Score"
   ]
  },
  {
   "cell_type": "code",
   "execution_count": null,
   "id": "5f99876b-3d61-44fe-a819-8643edfb57a5",
   "metadata": {},
   "outputs": [],
   "source": [
    "# gender_age2 = student_data.groupby([\"Gender\",\"Age\"])[\"Mental_Health_Score\"].mean().reset_index()\n",
    "\n",
    "pivot_gender_age2 = student_data.pivot_table(index = 'Gender', columns = 'Age', values = 'Mental_Health_Score', aggfunc = 'mean')\n",
    "pivot_gender_age2"
   ]
  },
  {
   "cell_type": "markdown",
   "id": "2a5cd6ec-5cb2-49f5-98bd-d6d2ecd6537b",
   "metadata": {},
   "source": [
    "#### Age and Gender Relationship by Average Conflicts over social media"
   ]
  },
  {
   "cell_type": "code",
   "execution_count": null,
   "id": "a3a6f986-9cbf-4fc5-9f36-88fd51f02c78",
   "metadata": {},
   "outputs": [],
   "source": [
    "# gender_age3 = student_data.groupby([\"Gender\",\"Age\"])[\"Conflicts_Over_Social_Media\"].mean().reset_index()\n",
    "\n",
    "pivot_gender_age3 = student_data.pivot_table(index = 'Gender', columns = 'Age', values = 'Conflicts_Over_Social_Media',aggfunc = 'mean')\n",
    "pivot_gender_age3"
   ]
  },
  {
   "cell_type": "markdown",
   "id": "c8149541-557a-43db-bc29-d8404912265e",
   "metadata": {},
   "source": [
    "#### Age and Gender Relationship by Average Addiction Score"
   ]
  },
  {
   "cell_type": "code",
   "execution_count": null,
   "id": "d8bca88e-6bfb-473a-b7fa-c70931ad058a",
   "metadata": {},
   "outputs": [],
   "source": [
    "pivot_gender_age4 = student_data.pivot_table(index = 'Gender', columns = 'Age', values = 'Addicted_Score', aggfunc = 'mean')\n",
    "pivot_gender_age4"
   ]
  },
  {
   "cell_type": "markdown",
   "id": "03e746c9-d130-49a7-87fe-eb3147a91a3b",
   "metadata": {},
   "source": [
    "#### Visualization of age and gender relationship by daily usage hours, sleep hours, mental health score, conflicts over social media and addiction score by the use of heatmap."
   ]
  },
  {
   "cell_type": "code",
   "execution_count": null,
   "id": "d2f4b84a-026e-4a64-b255-dba61a3212ce",
   "metadata": {},
   "outputs": [],
   "source": [
    "plt.figure(figsize = (15,10))\n",
    "\n",
    "plt.subplot(3,2,1)\n",
    "sns.heatmap(pivot_gender_age, annot = True, cmap = 'Blues', linewidth = 0.5)\n",
    "plt.title(\"Average daily usage hours by age and gender\", fontsize = 14, weight = 'bold', color = '#003366')\n",
    "plt.xlabel('Age')\n",
    "plt.ylabel('Gender')\n",
    "\n",
    "\n",
    "plt.subplot(3,2,2)\n",
    "sns.heatmap(pivot_gender_age1, annot = True, cmap = 'Blues', linewidth = 0.5)\n",
    "plt.title(\"Sleep hours per night by age and gender\", fontsize = 14, weight = 'bold', color = '#003366')\n",
    "plt.xlabel('Age')\n",
    "plt.ylabel('Gender')\n",
    "\n",
    "\n",
    "plt.subplot(3,2,3)\n",
    "sns.heatmap(pivot_gender_age2, annot = True, cmap = 'Blues', linewidth = 0.5)\n",
    "plt.title(\"Average Mental health score by age and gender\", fontsize = 14, weight = 'bold', color = '#003366')\n",
    "plt.xlabel('Age')\n",
    "plt.ylabel('Gender')\n",
    "\n",
    "\n",
    "plt.subplot(3,2,4)\n",
    "sns.heatmap(pivot_gender_age3, annot = True, cmap = 'Blues', linewidth = 0.5)\n",
    "plt.title(\"Average conflicts over social media by age and gender\", fontsize = 14, weight = 'bold', color = '#003366')\n",
    "plt.xlabel('Age')\n",
    "plt.ylabel('Gender')\n",
    "\n",
    "plt.subplot(3,2,5)\n",
    "sns.heatmap(pivot_gender_age4, annot = True, cmap = 'Blues', linewidth = 0.5)\n",
    "plt.title(\"Average Addiction Score by age and gender\", fontsize = 14, weight = 'bold', color = '#003366')\n",
    "plt.xlabel('Age')\n",
    "plt.ylabel('Gender')\n",
    "\n",
    "plt.tight_layout()\n",
    "plt.show()"
   ]
  },
  {
   "cell_type": "markdown",
   "id": "4a6c9b3a-4ce7-45d0-9334-a57cce07fd39",
   "metadata": {},
   "source": [
    "<h3 style=\"color:#003366;\">Key Insights</h3>\n",
    "\n",
    "<ul style=\"font-size:16px; color:#003366; margin-left:20px; line-height:1.6;\">\n",
    "  <li>Female students aged 18 spend more than 6 hours daily on social media compared to male students.</li>\n",
    "  <li>Students aged 22–24 (both genders) have healthier sleep patterns, while those aged 18–21 need more rest.</li>\n",
    "  <li>Lower daily usage and higher sleep hours are linked to better mental health scores and fewer social media conflicts.</li>\n",
    "  <li>Students aged 18 and 19 exhibit the highest addiction scores across both genders.</li>\n",
    "</ul>"
   ]
  },
  {
   "cell_type": "markdown",
   "id": "4f63eec5-e913-494c-9698-9077ce701c7c",
   "metadata": {},
   "source": [
    "#### Visualization of Academic Level and gender relationship by daily usage hours, sleep hours, mental health score, conflicts over social media and addiction score by the use of heatmap"
   ]
  },
  {
   "cell_type": "code",
   "execution_count": null,
   "id": "1134a777-fb93-4464-9fa6-b4b03f118d04",
   "metadata": {},
   "outputs": [],
   "source": [
    "\n",
    "pivot_gender_academic1 = student_data.pivot_table(index = 'Gender', columns = 'Academic_Level', values = 'Avg_Daily_Usage_Hours', aggfunc = 'mean')\n",
    "\n",
    "pivot_gender_academic2 = student_data.pivot_table(index = 'Gender', columns = 'Academic_Level', values = 'Sleep_Hours_Per_Night', aggfunc = 'mean')\n",
    "\n",
    "pivot_gender_academic3 = student_data.pivot_table(index = 'Gender', columns = 'Academic_Level', values = 'Mental_Health_Score', aggfunc = 'mean')\n",
    "\n",
    "pivot_gender_academic4 = student_data.pivot_table(index = 'Gender', columns = 'Academic_Level', values = 'Conflicts_Over_Social_Media', aggfunc = 'mean')\n",
    "\n",
    "pivot_gender_academic5 = student_data.pivot_table(index = 'Gender', columns = 'Academic_Level', values = 'Addicted_Score', aggfunc = 'mean')\n"
   ]
  },
  {
   "cell_type": "code",
   "execution_count": null,
   "id": "2bcf379a-8f5e-4709-8844-995e6083b23d",
   "metadata": {},
   "outputs": [],
   "source": [
    "plt.figure(figsize = (15,10))\n",
    "\n",
    "plt.subplot(3,2,1)\n",
    "sns.heatmap(pivot_gender_academic1, annot = True, cmap = 'Blues', linewidth = 0.5)\n",
    "plt.title(\"Average daily usage hours by Academic level and gender\", fontsize = 14, weight = 'bold', color = '#003366')\n",
    "plt.xlabel('Academic Level')\n",
    "plt.ylabel('Gender')\n",
    "\n",
    "\n",
    "plt.subplot(3,2,2)\n",
    "sns.heatmap(pivot_gender_academic2, annot = True, cmap = 'Blues', linewidth = 0.5)\n",
    "plt.title(\"Sleep hours per night by Academic level and gender\", fontsize = 14, weight = 'bold', color = '#003366')\n",
    "plt.xlabel('Academic Level')\n",
    "plt.ylabel('Gender')\n",
    "\n",
    "\n",
    "plt.subplot(3,2,3)\n",
    "sns.heatmap(pivot_gender_academic3, annot = True, cmap = 'Blues', linewidth = 0.5)\n",
    "plt.title(\"Average Mental health score by Academic level and gender\", fontsize = 14, weight = 'bold', color = '#003366')\n",
    "plt.xlabel('Academic Level')\n",
    "plt.ylabel('Gender')\n",
    "\n",
    "\n",
    "plt.subplot(3,2,4)\n",
    "sns.heatmap(pivot_gender_academic4, annot = True, cmap = 'Blues', linewidth = 0.5)\n",
    "plt.title(\"Average conflicts over social media by Academic level and gender\", fontsize = 14, weight = 'bold', color = '#003366')\n",
    "plt.xlabel('Academic Level')\n",
    "plt.ylabel('Gender')\n",
    "\n",
    "plt.subplot(3,2,5)\n",
    "sns.heatmap(pivot_gender_academic5, annot = True, cmap = 'Blues', linewidth = 0.5)\n",
    "plt.title(\"Average Addiction Score by Academic level and gender\", fontsize = 14, weight = 'bold', color = '#003366')\n",
    "plt.xlabel('Academic Level')\n",
    "plt.ylabel('Gender')\n",
    "\n",
    "plt.tight_layout()\n",
    "plt.show()"
   ]
  },
  {
   "cell_type": "markdown",
   "id": "d3fae58c-d0cc-4f63-9520-2e5c557badde",
   "metadata": {},
   "source": [
    "#### Most Used Platform by students visualization"
   ]
  },
  {
   "cell_type": "code",
   "execution_count": null,
   "id": "aafb75ee-5f93-45f3-8941-43fee4a9d4ec",
   "metadata": {},
   "outputs": [],
   "source": [
    "data_gender = student_data.groupby([\"Gender\",\"Most_Used_Platform\"])[\"Student_ID\"].count().reset_index()\n",
    "\n",
    "pivot_data_gender = data_gender.pivot(index = 'Gender', columns = 'Most_Used_Platform', values = 'Student_ID').fillna(0).astype(int)\n",
    "pivot_data_gender"
   ]
  },
  {
   "cell_type": "code",
   "execution_count": null,
   "id": "32f29e51-3871-41e2-a505-5165129a452a",
   "metadata": {},
   "outputs": [],
   "source": [
    "# AVERAGE additction levels across different genders\n",
    "\n",
    "data = student_data.groupby([\"Academic_Level\",\"Most_Used_Platform\"])[\"Student_ID\"].count().reset_index()\n",
    "\n",
    "pivot_data = data.pivot(index = 'Academic_Level', columns = 'Most_Used_Platform', values = 'Student_ID').fillna(0).astype(int)\n",
    "pivot_data"
   ]
  },
  {
   "cell_type": "code",
   "execution_count": null,
   "id": "ec927d4e-bc44-4fce-a7ea-523597901f71",
   "metadata": {},
   "outputs": [],
   "source": [
    "plt.figure(figsize = (15,5))\n",
    "\n",
    "plt.subplot(1,2,1)\n",
    "sns.heatmap(pivot_data_gender, annot = True, fmt = 'd', cmap = 'Blues', linewidth = 0.5)\n",
    "plt.title(\"Gender wise Platform use\", fontsize = 14, weight = 'bold', color = '#003366')\n",
    "plt.xlabel('Platforms')\n",
    "plt.ylabel('Gender')\n",
    "\n",
    "plt.subplot(1,2,2)\n",
    "sns.heatmap(pivot_data, annot = True, fmt = 'd', cmap = 'Blues', linewidth = 0.5)\n",
    "plt.title(\"Academic Level wise Platform use\", fontsize = 14, weight = 'bold', color = '#003366')\n",
    "plt.xlabel('Platforms')\n",
    "plt.ylabel('Academice Level')\n",
    "plt.tight_layout()\n",
    "plt.show()"
   ]
  },
  {
   "cell_type": "markdown",
   "id": "4a1047b0-f287-4865-96dd-7e5bc34aff36",
   "metadata": {},
   "source": [
    "<h3 style=\"color:#003366;\">Key Insights</h3>\n",
    "\n",
    "<ul style=\"font-size:16px; color:#003366; margin-left:20px; line-height:1.6;\">\n",
    "  <li>Instagram is the most use social media platform.</li>\n",
    "  <li>Male students prefer Facebook over Intagram.</li>\n",
    "  <li>Graduate students prefer Instagram and facebook while undergraduate prefer Instagram and TikTok.</li>\n",
    "</ul>\n"
   ]
  },
  {
   "cell_type": "markdown",
   "id": "c6241aae-61c6-41e2-b7da-b8743c226909",
   "metadata": {},
   "source": [
    "#### Pairplot explore relationships between multiple variables\n",
    "**A pairplot shows all possible pairwise scatter plots between several variables in one grid.**"
   ]
  },
  {
   "cell_type": "code",
   "execution_count": null,
   "id": "6a4ee9df-1c70-4bac-824b-45a771e5c71b",
   "metadata": {},
   "outputs": [],
   "source": [
    "sns.pairplot(\n",
    "    data =student_data[[\"Avg_Daily_Usage_Hours\",\"Sleep_Hours_Per_Night\",\"Mental_Health_Score\",\"Conflicts_Over_Social_Media\",\"Addicted_Score\",\"Gender\"]].head(50),\n",
    "    hue = \"Gender\"\n",
    ")\n",
    "plt.show()"
   ]
  },
  {
   "cell_type": "markdown",
   "id": "484110d2-6a22-483a-b98a-ef398a865209",
   "metadata": {},
   "source": [
    "### Pairplot Analysis: Addiction and Behavioral Patterns\n",
    "\n",
    "We used a **Seaborn Pairplot** to visualize the relationships between multiple variables:\n",
    "- **Avg_Daily_Usage_Hours**\n",
    "- **Sleep_Hours_Per_Night**\n",
    "- **Mental_Health_Score**\n",
    "- **Conflicts_Over_Social_Media**\n",
    "- **Addicted_Score**\n",
    "- **Gender** (as hue)\n",
    "\n",
    "#### Key Insights:\n",
    "1. **Daily Usage Hours vs Sleep Hours**\n",
    "   - A **negative correlation** was observed.\n",
    "   - Students with higher daily usage tend to sleep fewer hours.\n",
    "\n",
    "2. **Daily Usage Hours vs Addicted Score**\n",
    "   - Shows a **positive correlation**.\n",
    "   - More hours on social media → higher addiction levels.\n",
    "\n",
    "3. **Sleep Hours vs Mental Health Score**\n",
    "   - Suggests an **inverse relationship**.\n",
    "   - Less sleep may lead to worse mental health outcomes.\n",
    "\n",
    "4. **Conflicts Over Social Media vs Addicted Score**\n",
    "   - A **positive trend**.\n",
    "   - Students with higher addiction also reported more conflicts.\n",
    "\n",
    "5. **Gender Differences**\n",
    "   - By using `hue=\"Gender\"`, the plots highlight behavioral differences:\n",
    "     - Males show slightly higher average daily usage.\n",
    "     - Females reported slightly more conflicts at the same addiction level.\n",
    "\n",
    "#### Conclusion:\n",
    "The pairplot provides a **comprehensive view** of how digital addiction impacts **sleep, mental health, and conflicts**, and highlights **gender-based variations** in usage patterns."
   ]
  },
  {
   "cell_type": "markdown",
   "id": "49276105-b591-4f5c-b1d1-42310a4d8bfd",
   "metadata": {},
   "source": [
    "#### Barplot explore relationships categories and numerical variables\n",
    "**A Barplot shows all Higher and Lower values across categories.**"
   ]
  },
  {
   "cell_type": "code",
   "execution_count": null,
   "id": "f341a28f-670d-42d5-8d2b-d5ffdbcbf4fd",
   "metadata": {},
   "outputs": [],
   "source": [
    "risk_Gender = student_data.pivot_table(index = 'Gender', columns = 'Risk_Level', values = 'Student_ID', aggfunc = 'count')\n",
    "\n",
    "risk_age = student_data.pivot_table(index = 'Age', columns = 'Risk_Level', values = 'Student_ID', aggfunc = 'count').fillna(0)\n",
    "\n",
    "risk_academic = student_data.pivot_table(index = 'Academic_Level', columns = 'Risk_Level', values = 'Student_ID', aggfunc = 'count').fillna(0)\n"
   ]
  },
  {
   "cell_type": "code",
   "execution_count": null,
   "id": "4417764f-6ce9-4b2a-86f9-dce61980ab67",
   "metadata": {},
   "outputs": [],
   "source": [
    "# fig for figure size of chart and axes on which the charts will be plot\n",
    "fig, axes = plt.subplots(2, 2, figsize=(15, 10))\n",
    "\n",
    "# 1. Gender risk chart\n",
    "ax = risk_Gender.plot(\n",
    "    kind=\"bar\",  # kind for kind of chart we want to plot\n",
    "    stacked=True,  # stacked for bar chart type\n",
    "    colormap=\"Set2\", # colors selection\n",
    "    ax=axes[0,0]\n",
    ")\n",
    "\n",
    "ax.set_title(\"Risk Level Distribution by Gender\", fontsize=14, weight='bold', color=\"#003366\")\n",
    "ax.set_xlabel(\"Gender\")\n",
    "ax.set_ylabel(\"Number of Students\")\n",
    "ax.legend(title=\"Risk Level\")\n",
    "\n",
    "# for loop to have the values at center of the bar\n",
    "for p in ax.patches:\n",
    "    value = int(p.get_height())\n",
    "    if value > 0:\n",
    "        ax.text(p.get_x() + p.get_width()/2,\n",
    "                p.get_y() + p.get_height()/2,\n",
    "                str(value), ha=\"center\", va=\"center\", fontsize=10, weight=\"bold\")\n",
    "\n",
    "# Age risk chart\n",
    "ax = risk_age.plot(\n",
    "    kind=\"bar\",\n",
    "    stacked=True,\n",
    "    colormap=\"Set2\",\n",
    "    ax=axes[0,1]\n",
    ")\n",
    "\n",
    "ax.set_title(\"Risk Level Distribution by Age\", fontsize=14, weight='bold', color=\"#003366\")\n",
    "ax.set_xlabel(\"Age\")\n",
    "ax.set_ylabel(\"Number of Students\")\n",
    "ax.legend(title=\"Risk Level\")\n",
    "\n",
    "for p in ax.patches:\n",
    "    value = int(p.get_height())\n",
    "    if value > 0:\n",
    "        ax.text(p.get_x() + p.get_width()/2,\n",
    "                p.get_y() + p.get_height()/2,\n",
    "                str(value), ha=\"center\", va=\"center\", fontsize=10, weight=\"bold\")\n",
    "\n",
    "# Academic Level risk chart\n",
    "ax = risk_academic.plot(\n",
    "    kind=\"bar\",\n",
    "    stacked=True,\n",
    "    colormap=\"Set2\",\n",
    "    ax=axes[1,0]\n",
    ")\n",
    "\n",
    "ax.set_title(\"Risk Level Distribution by Academic Level\", fontsize=14, weight='bold', color=\"#003366\")\n",
    "ax.set_xlabel(\"Academic Level\")\n",
    "ax.set_ylabel(\"Number of Students\")\n",
    "ax.legend(title=\"Risk Level\")\n",
    "\n",
    "for p in ax.patches:\n",
    "    value = int(p.get_height())\n",
    "    if value > 0:\n",
    "        ax.text(p.get_x() + p.get_width()/2,\n",
    "                p.get_y() + p.get_height()/2,\n",
    "                str(value), ha=\"center\", va=\"center\", fontsize=10, weight=\"bold\")\n",
    "\n",
    "# Remove empty subplot\n",
    "fig.delaxes(axes[1,1]) \n",
    "\n",
    "plt.tight_layout()\n",
    "plt.show()"
   ]
  },
  {
   "cell_type": "markdown",
   "id": "aba8af9f-e8d3-4192-aa1e-b3545578efed",
   "metadata": {},
   "source": [
    "#### Key Insights:\n",
    "1. **Risk Level Distribution by gender**\n",
    "   - Female students show slightly higher numbers in High risk compared to male students.\n",
    "   - Medium risk dominates for both genders, but females have a larger proportion in Medium risk. \n",
    "\n",
    "2. **Risk Level Distribution by age**\n",
    "   - Ages 19, 20, 21 have the highest number of Medium risk cases.\n",
    "   - High-risk students are concentrated around ages 18, 19, and 22.\n",
    "   - Older students (23, 24) show fewer risk cases overall.\n",
    "\n",
    "3. **Risk Level Distribution by Academic Level**\n",
    "   - Undergraduate students have the highest risk levels (both High and Medium).\n",
    "   - Graduate students also face significant risks but slightly fewer than undergraduates.\n",
    "   - High school students are very few in number, but those present show some Medium risk.\n",
    "\n",
    "4. **This suggests that female students, undergraduates, and younger age groups (18–21) should be the primary focus for interventions and awareness    programs.**"
   ]
  },
  {
   "cell_type": "markdown",
   "id": "1ace9909-fb8a-46dd-b5cc-2ec4a622dc28",
   "metadata": {},
   "source": [
    "#### Topmost Addicted Countries"
   ]
  },
  {
   "cell_type": "code",
   "execution_count": null,
   "id": "6dce162e-7dd6-48ea-a60f-d035792760fc",
   "metadata": {},
   "outputs": [],
   "source": [
    "# Average addiction score by countries\n",
    "Addiction_score_demo = (\n",
    "    student_data.groupby(\"Country\").agg(Avg_Score=(\"Addicted_Score\", \"mean\"),Count=(\"Addicted_Score\", \"count\")).reset_index()\n",
    ")\n",
    "# Step 2: Keep only countries with more than 10 students\n",
    "Addiction_score_demo = Addiction_score_demo[Addiction_score_demo[\"Count\"] > 10]\n",
    "\n",
    "# Step 3: Sort by Avg_Score and take top 10\n",
    "Addiction_score_demo = Addiction_score_demo.sort_values(by=\"Avg_Score\", ascending=False).head(10)\n",
    "\n",
    "# Average Daily usage hours by countries whose counts are more than 10\n",
    "Daily_Usage_Hours = (student_data.groupby(\"Country\").agg(Avg_Score1=(\"Avg_Daily_Usage_Hours\",\"mean\"),\n",
    "                                                        Count1=(\"Avg_Daily_Usage_Hours\", \"count\")).reset_index())\n",
    "Daily_Usage_Hours = Daily_Usage_Hours[Daily_Usage_Hours[\"Count1\"] > 10]\n",
    "                                                        \n",
    "Daily_Usage_Hours = Daily_Usage_Hours.sort_values(by=\"Avg_Score1\", ascending=False).head(10)\n",
    "\n",
    "# Average Sleep Hours Per Night by countries whose counts are more than 10\n",
    "\n",
    "sleep_hours = (student_data.groupby(\"Country\").agg(Avg_Score2=(\"Sleep_Hours_Per_Night\",\"mean\"),\n",
    "                                                        Count2=(\"Sleep_Hours_Per_Night\", \"count\")).reset_index())\n",
    "sleep_hours = sleep_hours[sleep_hours[\"Count2\"] > 10]\n",
    "                                                        \n",
    "sleep_hours = sleep_hours.sort_values(by=\"Avg_Score2\", ascending=False).head(10)\n",
    "\n",
    "# Average Mental Health score by countries whose counts are more than 10\n",
    "\n",
    "Mental_health_score = (student_data.groupby(\"Country\").agg(Avg_Score3=(\"Mental_Health_Score\",\"mean\"),\n",
    "                                                        Count3=(\"Mental_Health_Score\", \"count\")).reset_index())\n",
    "Mental_health_score = Mental_health_score[Mental_health_score[\"Count3\"] > 10]\n",
    "                                                        \n",
    "Mental_health_score = Mental_health_score.sort_values(by=\"Avg_Score3\", ascending=False).head(10)\n",
    "\n",
    "\n",
    "# Average Social media conflicts by countries whose counts are more than 10\n",
    "\n",
    "social_media_conflicts = (student_data.groupby(\"Country\").agg(Avg_Score4=(\"Conflicts_Over_Social_Media\",\"mean\"),\n",
    "                                                        Count4=(\"Conflicts_Over_Social_Media\", \"count\")).reset_index())\n",
    "social_media_conflicts = social_media_conflicts[social_media_conflicts[\"Count4\"] > 10]\n",
    "                                                        \n",
    "social_media_conflicts = social_media_conflicts.sort_values(by=\"Avg_Score4\", ascending=False).head(10)\n",
    "\n",
    "\n",
    "plt.figure(figsize=(15, 10))\n",
    "plt.subplot(3,2,1)\n",
    "sns.barplot(data=Addiction_score_demo, x=\"Avg_Score\", y=\"Country\", palette=\"viridis\", hue='Country')\n",
    "plt.title(\"Top 10 Countries by Addiction Score\", fontsize=14, weight='bold', color=\"#003366\")\n",
    "plt.xlabel(\"Addiction Score\")\n",
    "plt.ylabel(\"Country\")\n",
    "plt.yticks(fontsize=10)\n",
    "\n",
    "plt.subplot(3,2,2)\n",
    "sns.barplot(data=Daily_Usage_Hours, x=\"Avg_Score1\", y=\"Country\", palette=\"viridis\", hue='Country')\n",
    "plt.title(\"Top 10 Countries by Daily Usage Hours\", fontsize=14, weight='bold', color=\"#003366\")\n",
    "plt.xlabel(\"Daily Usage hours\")\n",
    "plt.ylabel(\"Country\")\n",
    "plt.yticks(fontsize=10)\n",
    "\n",
    "plt.subplot(3,2,3)\n",
    "sns.barplot(data=sleep_hours, x=\"Avg_Score2\", y=\"Country\", palette=\"viridis\", hue='Country')\n",
    "plt.title(\"Top 10 Countries by average sleep hours\", fontsize=14, weight='bold', color=\"#003366\")\n",
    "plt.xlabel(\"Sleep Hours\")\n",
    "plt.ylabel(\"Country\")\n",
    "plt.yticks(fontsize=10)\n",
    "\n",
    "plt.subplot(3,2,4)\n",
    "sns.barplot(data=Mental_health_score, x=\"Avg_Score3\", y=\"Country\", palette=\"viridis\", hue='Country')\n",
    "plt.title(\"Top 10 Countries by Average Mental Health Score\", fontsize=14, weight='bold', color=\"#003366\")\n",
    "plt.xlabel(\"Mental Health Score\")\n",
    "plt.ylabel(\"Country\")\n",
    "plt.yticks(fontsize=10)\n",
    "\n",
    "plt.subplot(3,2,5)\n",
    "sns.barplot(data=social_media_conflicts, x=\"Avg_Score4\", y=\"Country\", palette=\"viridis\", hue='Country')\n",
    "plt.title(\"Top 10 Countries by Average Social Media conflicts\", fontsize=14, weight='bold', color=\"#003366\")\n",
    "plt.xlabel(\"Social Media Conflicts\")\n",
    "plt.ylabel(\"Country\")\n",
    "plt.yticks(fontsize=10)\n",
    "\n",
    "\n",
    "plt.tight_layout()\n",
    "plt.show()"
   ]
  },
  {
   "cell_type": "markdown",
   "id": "8613f117-27bd-4cc6-982b-01d9f46d4f51",
   "metadata": {},
   "source": [
    "#### Project Summery and Key Insights:\n"
   ]
  },
  {
   "cell_type": "markdown",
   "id": "c8638139-5bfc-4632-a024-37bc93af0cb6",
   "metadata": {},
   "source": [
    "1. **Gender-based Analysis**: Female students show a slightly higher average addiction score (**6.5**) compared to male students (**6.3**).  \n",
    "2. **Age-based Trends**: Students aged **18** have the highest addiction score (**7.7**), while ages **19 (6.6)** and **20 (6.4)** and **21 (6.5)** are at a similar level.  \n",
    "3. **Academic Level**: High school students have an average addiction score of **8.0**, which is higher than undergraduates (**6.4**) and graduates (**6.2**).\n",
    "4. **There is one fact that the number of high school students are less and students aged 18 are also less but they are more addicted towards there   phone.** \n",
    "5. **Daily Usage Patterns**: Female students aged 18 spend more than **6 hours** daily on social media compared to male students. \n",
    "6. **Sleep Impact**: Students aged **22–24 (both genders)** have healthier sleep patterns, while those aged **18–21** need more rest..  \n",
    "7. **Mental Health Correlation**: Higher addiction scores (**>6.5**) are associated with lower mental health scores (**<5**).  \n",
    "8. **Conflicts Over Social Media**: Those who have have less sleep, addiction score more than average have more conflicts on social media.  \n",
    "9. **Overall Addiction Scores**: Across demographics, higher screen time (**>5 hrs/day**) strongly correlates with higher addiction scores (**>6.5**).  \n",
    "10. **Key Observation**: While graduate and undergraduate students are larger in number, high school students show the **highest relative addiction intensity**. **Female students** are at **risk** than male students.\n",
    "11. **Countries with Highest Addiction score are **USA, India, Pakistan, Bangladesh, Mexico**.\n",
    "12. Most Used Platforms are **Instagram, Facebook, TikTok**.\n",
    "13. **Conclusion**: Social media addiction varies by **gender, age, and academic level**, and strongly affects **sleep and mental health**, highlighting the need for balance in digital use."
   ]
  },
  {
   "cell_type": "markdown",
   "id": "bd150da7-4bd4-4656-b6e8-24642266415e",
   "metadata": {},
   "source": [
    "#### Recommendations:\n"
   ]
  },
  {
   "cell_type": "markdown",
   "id": "bcc65b84-1653-4214-89e7-01e1bcfe8d58",
   "metadata": {},
   "source": [
    "1. **Awareness & Guidance**: Conduct workshops and provide parental/teacher guidance on balanced social media use.  \n",
    "2. **Screen-Time Control**: Encourage students to use **digital wellbeing tools** and keep usage under **4 hrs/day**.  \n",
    "3. **Healthy Routine**: Promote **7–8 hrs of sleep** and balanced study–leisure schedules.  \n",
    "4. **Support & Counseling**: Provide counseling for students with **high addiction scores (>6.5)** and **low mental health scores (<5)**.  \n",
    "5. **Digital Literacy**: Integrate **digital literacy programs** and introduce *“No Phone Zones”* to reduce conflicts and improve focus."
   ]
  }
 ],
 "metadata": {
  "kernelspec": {
   "display_name": "Python 3 (ipykernel)",
   "language": "python",
   "name": "python3"
  },
  "language_info": {
   "codemirror_mode": {
    "name": "ipython",
    "version": 3
   },
   "file_extension": ".py",
   "mimetype": "text/x-python",
   "name": "python",
   "nbconvert_exporter": "python",
   "pygments_lexer": "ipython3",
   "version": "3.13.5"
  }
 },
 "nbformat": 4,
 "nbformat_minor": 5
}
